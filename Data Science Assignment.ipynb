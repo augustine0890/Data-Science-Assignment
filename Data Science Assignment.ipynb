{
 "cells": [
  {
   "cell_type": "markdown",
   "metadata": {},
   "source": [
    "# Overview\n",
    "The goal of this assignment is to predict category for the given Twitter post. The categories can be: __(A) Political (B) Finance (C) Journal__. The dataset was small (just around 500 example) and the data within it was skewed, which greatly impacted on the difficulty of building good classifier. After creating a lot of custom features, using _bag-of-words_ and applying the logistic regression, the classification accuracy at level of 51% was achieved."
   ]
  },
  {
   "cell_type": "markdown",
   "metadata": {},
   "source": [
    "# 1. Getting Data from Twitter API\n",
    "I will be using a Python library call `Tweepy` to connect to Twitter API and downloading the data."
   ]
  },
  {
   "cell_type": "code",
   "execution_count": 1,
   "metadata": {},
   "outputs": [],
   "source": [
    "import tweepy\n",
    "import json\n",
    "import numpy as np\n",
    "import pandas as pd\n",
    "from tweepy import OAuthHandler\n",
    "from tweepy import API\n",
    "from tweepy import Cursor\n",
    "from datetime import datetime, date, time, timedelta\n",
    "from collections import Counter\n",
    "import sys"
   ]
  },
  {
   "cell_type": "code",
   "execution_count": 2,
   "metadata": {},
   "outputs": [],
   "source": [
    "consumer_key = 'ZKlfP6lgUIVSl6QAzXNvRyqfs'\n",
    "consumer_secret = '7LBH2g8Hk05Sxa6rqnB27Aq2viaqEdMuf3fDLBEH4JSECbAVEy'"
   ]
  },
  {
   "cell_type": "code",
   "execution_count": 3,
   "metadata": {},
   "outputs": [],
   "source": [
    "# Consumer key authentication\n",
    "auth = OAuthHandler(consumer_key, consumer_secret)"
   ]
  },
  {
   "cell_type": "code",
   "execution_count": 4,
   "metadata": {},
   "outputs": [],
   "source": [
    "access_token = '1042808210149715969-9XmzvVeFRvtkQZW8cVXbEMFsbZm3m0'\n",
    "access_token_secret = 'Afkg5xl3AQa5fN0JoWFDVXtQf1GkC220Lkjt9HLOn3BR6'"
   ]
  },
  {
   "cell_type": "code",
   "execution_count": 5,
   "metadata": {},
   "outputs": [],
   "source": [
    "# Access key authentication\n",
    "auth.set_access_token(access_token, access_token_secret)"
   ]
  },
  {
   "cell_type": "code",
   "execution_count": 6,
   "metadata": {},
   "outputs": [],
   "source": [
    "api = tweepy.API(auth, wait_on_rate_limit=True, wait_on_rate_limit_notify=True)"
   ]
  },
  {
   "cell_type": "markdown",
   "metadata": {},
   "source": [
    "The `test.csv` inclued a set of 500 Twitter user IDs"
   ]
  },
  {
   "cell_type": "code",
   "execution_count": 7,
   "metadata": {},
   "outputs": [
    {
     "data": {
      "text/html": [
       "<div>\n",
       "<style scoped>\n",
       "    .dataframe tbody tr th:only-of-type {\n",
       "        vertical-align: middle;\n",
       "    }\n",
       "\n",
       "    .dataframe tbody tr th {\n",
       "        vertical-align: top;\n",
       "    }\n",
       "\n",
       "    .dataframe thead th {\n",
       "        text-align: right;\n",
       "    }\n",
       "</style>\n",
       "<table border=\"1\" class=\"dataframe\">\n",
       "  <thead>\n",
       "    <tr style=\"text-align: right;\">\n",
       "      <th></th>\n",
       "      <th>Twitter Id</th>\n",
       "      <th>Category</th>\n",
       "    </tr>\n",
       "  </thead>\n",
       "  <tbody>\n",
       "    <tr>\n",
       "      <th>0</th>\n",
       "      <td>4912945864</td>\n",
       "      <td>Politician</td>\n",
       "    </tr>\n",
       "    <tr>\n",
       "      <th>1</th>\n",
       "      <td>1900694785</td>\n",
       "      <td>Politician</td>\n",
       "    </tr>\n",
       "    <tr>\n",
       "      <th>2</th>\n",
       "      <td>1887255132</td>\n",
       "      <td>Politician</td>\n",
       "    </tr>\n",
       "    <tr>\n",
       "      <th>3</th>\n",
       "      <td>1873380343</td>\n",
       "      <td>Politician</td>\n",
       "    </tr>\n",
       "    <tr>\n",
       "      <th>4</th>\n",
       "      <td>1872999342</td>\n",
       "      <td>Politician</td>\n",
       "    </tr>\n",
       "  </tbody>\n",
       "</table>\n",
       "</div>"
      ],
      "text/plain": [
       "   Twitter Id    Category\n",
       "0  4912945864  Politician\n",
       "1  1900694785  Politician\n",
       "2  1887255132  Politician\n",
       "3  1873380343  Politician\n",
       "4  1872999342  Politician"
      ]
     },
     "execution_count": 7,
     "metadata": {},
     "output_type": "execute_result"
    }
   ],
   "source": [
    "test = pd.read_csv('test.csv')\n",
    "test.head()"
   ]
  },
  {
   "cell_type": "code",
   "execution_count": 8,
   "metadata": {},
   "outputs": [],
   "source": [
    "id_list = test['Twitter Id'].tolist() # Convert to list"
   ]
  },
  {
   "cell_type": "markdown",
   "metadata": {},
   "source": [
    "Because `tweepy` does not support to get more than 100 users at time. Therefore, I will write the function that can get the tweets of more than 100 users"
   ]
  },
  {
   "cell_type": "code",
   "execution_count": 9,
   "metadata": {},
   "outputs": [],
   "source": [
    "def lookup_user_list(followers_id, api):\n",
    "    full_users = []\n",
    "    users_count = len(followers_id)\n",
    "    while True:\n",
    "        try:\n",
    "            for i in range(int(users_count / 100) + 1):\n",
    "                full_users.extend(api.lookup_users(user_ids=followers_id[i*100:min((i+1)*100, users_count)]))\n",
    "                print('getting users batch:', i)\n",
    "        except tweepy.TweepError as e:\n",
    "            print('Something went wrong, quitting...', e)\n",
    "            time.sleep(15 * 60)\n",
    "        return full_users"
   ]
  },
  {
   "cell_type": "markdown",
   "metadata": {},
   "source": [
    "Apply function"
   ]
  },
  {
   "cell_type": "code",
   "execution_count": 10,
   "metadata": {},
   "outputs": [
    {
     "name": "stdout",
     "output_type": "stream",
     "text": [
      "getting users batch: 0\n",
      "getting users batch: 1\n",
      "getting users batch: 2\n",
      "getting users batch: 3\n",
      "getting users batch: 4\n",
      "getting users batch: 5\n"
     ]
    }
   ],
   "source": [
    "results = lookup_user_list(id_list, api) "
   ]
  },
  {
   "cell_type": "markdown",
   "metadata": {},
   "source": [
    "Wrangle the data into one dataframe"
   ]
  },
  {
   "cell_type": "code",
   "execution_count": 11,
   "metadata": {},
   "outputs": [],
   "source": [
    "# Create JSON\n",
    "js = json.dumps([status._json for status in results]) \n",
    "\n",
    "users = pd.read_json(js, orient='records')"
   ]
  },
  {
   "cell_type": "code",
   "execution_count": 12,
   "metadata": {},
   "outputs": [],
   "source": [
    "users_full = pd.merge(test, users, left_on='Twitter Id', right_on='id', how='left').drop('id', axis=1)"
   ]
  },
  {
   "cell_type": "markdown",
   "metadata": {},
   "source": [
    "Let's look at our new dataframe `users_full`"
   ]
  },
  {
   "cell_type": "code",
   "execution_count": 13,
   "metadata": {},
   "outputs": [
    {
     "data": {
      "text/html": [
       "<div>\n",
       "<style scoped>\n",
       "    .dataframe tbody tr th:only-of-type {\n",
       "        vertical-align: middle;\n",
       "    }\n",
       "\n",
       "    .dataframe tbody tr th {\n",
       "        vertical-align: top;\n",
       "    }\n",
       "\n",
       "    .dataframe thead th {\n",
       "        text-align: right;\n",
       "    }\n",
       "</style>\n",
       "<table border=\"1\" class=\"dataframe\">\n",
       "  <thead>\n",
       "    <tr style=\"text-align: right;\">\n",
       "      <th></th>\n",
       "      <th>Twitter Id</th>\n",
       "      <th>Category</th>\n",
       "      <th>contributors_enabled</th>\n",
       "      <th>created_at</th>\n",
       "      <th>default_profile</th>\n",
       "      <th>default_profile_image</th>\n",
       "      <th>description</th>\n",
       "      <th>entities</th>\n",
       "      <th>favourites_count</th>\n",
       "      <th>follow_request_sent</th>\n",
       "      <th>...</th>\n",
       "      <th>profile_use_background_image</th>\n",
       "      <th>protected</th>\n",
       "      <th>screen_name</th>\n",
       "      <th>status</th>\n",
       "      <th>statuses_count</th>\n",
       "      <th>time_zone</th>\n",
       "      <th>translator_type</th>\n",
       "      <th>url</th>\n",
       "      <th>utc_offset</th>\n",
       "      <th>verified</th>\n",
       "    </tr>\n",
       "  </thead>\n",
       "  <tbody>\n",
       "    <tr>\n",
       "      <th>0</th>\n",
       "      <td>4912945864</td>\n",
       "      <td>Politician</td>\n",
       "      <td>False</td>\n",
       "      <td>2016-02-15 10:23:32</td>\n",
       "      <td>False</td>\n",
       "      <td>False</td>\n",
       "      <td>District Councillor for SODC Chinnor Ward with...</td>\n",
       "      <td>{'description': {'urls': []}}</td>\n",
       "      <td>18643.0</td>\n",
       "      <td>False</td>\n",
       "      <td>...</td>\n",
       "      <td>True</td>\n",
       "      <td>False</td>\n",
       "      <td>IanWhite_DC</td>\n",
       "      <td>{'created_at': 'Wed Sep 26 17:41:00 +0000 2018...</td>\n",
       "      <td>12991.0</td>\n",
       "      <td>NaN</td>\n",
       "      <td>none</td>\n",
       "      <td>None</td>\n",
       "      <td>NaN</td>\n",
       "      <td>False</td>\n",
       "    </tr>\n",
       "    <tr>\n",
       "      <th>1</th>\n",
       "      <td>1900694785</td>\n",
       "      <td>Politician</td>\n",
       "      <td>False</td>\n",
       "      <td>2013-09-24 14:29:28</td>\n",
       "      <td>False</td>\n",
       "      <td>False</td>\n",
       "      <td>ケネディ前大使のアーカイブアカウント。アメリカ大使館のニュースは@USEmbassyToky...</td>\n",
       "      <td>{'url': {'urls': [{'url': 'https://t.co/hED6j9...</td>\n",
       "      <td>344.0</td>\n",
       "      <td>False</td>\n",
       "      <td>...</td>\n",
       "      <td>False</td>\n",
       "      <td>False</td>\n",
       "      <td>AmbCKennedy</td>\n",
       "      <td>{'created_at': 'Wed Jan 18 12:02:53 +0000 2017...</td>\n",
       "      <td>979.0</td>\n",
       "      <td>NaN</td>\n",
       "      <td>none</td>\n",
       "      <td>https://t.co/hED6j945kN</td>\n",
       "      <td>NaN</td>\n",
       "      <td>True</td>\n",
       "    </tr>\n",
       "    <tr>\n",
       "      <th>2</th>\n",
       "      <td>1887255132</td>\n",
       "      <td>Politician</td>\n",
       "      <td>False</td>\n",
       "      <td>2013-09-20 17:48:12</td>\n",
       "      <td>True</td>\n",
       "      <td>False</td>\n",
       "      <td>My tweets and views are my own. Philadelphia, PA.</td>\n",
       "      <td>{'url': {'urls': [{'url': 'https://t.co/FudBly...</td>\n",
       "      <td>125.0</td>\n",
       "      <td>False</td>\n",
       "      <td>...</td>\n",
       "      <td>True</td>\n",
       "      <td>False</td>\n",
       "      <td>grustia_aarp</td>\n",
       "      <td>{'created_at': 'Sun Sep 16 12:08:47 +0000 2018...</td>\n",
       "      <td>251.0</td>\n",
       "      <td>NaN</td>\n",
       "      <td>none</td>\n",
       "      <td>https://t.co/FudBly9U3r</td>\n",
       "      <td>NaN</td>\n",
       "      <td>False</td>\n",
       "    </tr>\n",
       "    <tr>\n",
       "      <th>3</th>\n",
       "      <td>1873380343</td>\n",
       "      <td>Politician</td>\n",
       "      <td>False</td>\n",
       "      <td>2013-09-16 23:20:09</td>\n",
       "      <td>False</td>\n",
       "      <td>False</td>\n",
       "      <td>Owner, Faye's Fabulous Flowers</td>\n",
       "      <td>{'url': {'urls': [{'url': 'https://t.co/I3gYTJ...</td>\n",
       "      <td>165.0</td>\n",
       "      <td>False</td>\n",
       "      <td>...</td>\n",
       "      <td>True</td>\n",
       "      <td>False</td>\n",
       "      <td>drfayenaples</td>\n",
       "      <td>{'created_at': 'Fri Jul 27 00:45:10 +0000 2018...</td>\n",
       "      <td>199.0</td>\n",
       "      <td>NaN</td>\n",
       "      <td>none</td>\n",
       "      <td>https://t.co/I3gYTJmraD</td>\n",
       "      <td>NaN</td>\n",
       "      <td>False</td>\n",
       "    </tr>\n",
       "    <tr>\n",
       "      <th>4</th>\n",
       "      <td>1872999342</td>\n",
       "      <td>Politician</td>\n",
       "      <td>False</td>\n",
       "      <td>2013-09-16 21:08:18</td>\n",
       "      <td>False</td>\n",
       "      <td>False</td>\n",
       "      <td>Campaign account for Senator Chuck Schumer, D-...</td>\n",
       "      <td>{'url': {'urls': [{'url': 'http://t.co/BooKG20...</td>\n",
       "      <td>7.0</td>\n",
       "      <td>False</td>\n",
       "      <td>...</td>\n",
       "      <td>True</td>\n",
       "      <td>False</td>\n",
       "      <td>chuckschumer</td>\n",
       "      <td>{'created_at': 'Tue Dec 19 22:17:23 +0000 2017...</td>\n",
       "      <td>378.0</td>\n",
       "      <td>NaN</td>\n",
       "      <td>none</td>\n",
       "      <td>http://t.co/BooKG20lX6</td>\n",
       "      <td>NaN</td>\n",
       "      <td>True</td>\n",
       "    </tr>\n",
       "  </tbody>\n",
       "</table>\n",
       "<p>5 rows × 44 columns</p>\n",
       "</div>"
      ],
      "text/plain": [
       "   Twitter Id    Category contributors_enabled          created_at  \\\n",
       "0  4912945864  Politician                False 2016-02-15 10:23:32   \n",
       "1  1900694785  Politician                False 2013-09-24 14:29:28   \n",
       "2  1887255132  Politician                False 2013-09-20 17:48:12   \n",
       "3  1873380343  Politician                False 2013-09-16 23:20:09   \n",
       "4  1872999342  Politician                False 2013-09-16 21:08:18   \n",
       "\n",
       "  default_profile default_profile_image  \\\n",
       "0           False                 False   \n",
       "1           False                 False   \n",
       "2            True                 False   \n",
       "3           False                 False   \n",
       "4           False                 False   \n",
       "\n",
       "                                         description  \\\n",
       "0  District Councillor for SODC Chinnor Ward with...   \n",
       "1  ケネディ前大使のアーカイブアカウント。アメリカ大使館のニュースは@USEmbassyToky...   \n",
       "2  My tweets and views are my own. Philadelphia, PA.   \n",
       "3                     Owner, Faye's Fabulous Flowers   \n",
       "4  Campaign account for Senator Chuck Schumer, D-...   \n",
       "\n",
       "                                            entities  favourites_count  \\\n",
       "0                      {'description': {'urls': []}}           18643.0   \n",
       "1  {'url': {'urls': [{'url': 'https://t.co/hED6j9...             344.0   \n",
       "2  {'url': {'urls': [{'url': 'https://t.co/FudBly...             125.0   \n",
       "3  {'url': {'urls': [{'url': 'https://t.co/I3gYTJ...             165.0   \n",
       "4  {'url': {'urls': [{'url': 'http://t.co/BooKG20...               7.0   \n",
       "\n",
       "  follow_request_sent    ...     profile_use_background_image protected  \\\n",
       "0               False    ...                             True     False   \n",
       "1               False    ...                            False     False   \n",
       "2               False    ...                             True     False   \n",
       "3               False    ...                             True     False   \n",
       "4               False    ...                             True     False   \n",
       "\n",
       "    screen_name                                             status  \\\n",
       "0   IanWhite_DC  {'created_at': 'Wed Sep 26 17:41:00 +0000 2018...   \n",
       "1   AmbCKennedy  {'created_at': 'Wed Jan 18 12:02:53 +0000 2017...   \n",
       "2  grustia_aarp  {'created_at': 'Sun Sep 16 12:08:47 +0000 2018...   \n",
       "3  drfayenaples  {'created_at': 'Fri Jul 27 00:45:10 +0000 2018...   \n",
       "4  chuckschumer  {'created_at': 'Tue Dec 19 22:17:23 +0000 2017...   \n",
       "\n",
       "  statuses_count  time_zone translator_type                      url  \\\n",
       "0        12991.0        NaN            none                     None   \n",
       "1          979.0        NaN            none  https://t.co/hED6j945kN   \n",
       "2          251.0        NaN            none  https://t.co/FudBly9U3r   \n",
       "3          199.0        NaN            none  https://t.co/I3gYTJmraD   \n",
       "4          378.0        NaN            none   http://t.co/BooKG20lX6   \n",
       "\n",
       "  utc_offset  verified  \n",
       "0        NaN     False  \n",
       "1        NaN      True  \n",
       "2        NaN     False  \n",
       "3        NaN     False  \n",
       "4        NaN      True  \n",
       "\n",
       "[5 rows x 44 columns]"
      ]
     },
     "execution_count": 13,
     "metadata": {},
     "output_type": "execute_result"
    }
   ],
   "source": [
    "users_full.head()"
   ]
  },
  {
   "cell_type": "code",
   "execution_count": 14,
   "metadata": {},
   "outputs": [
    {
     "name": "stdout",
     "output_type": "stream",
     "text": [
      "<class 'pandas.core.frame.DataFrame'>\n",
      "Int64Index: 556 entries, 0 to 555\n",
      "Data columns (total 44 columns):\n",
      "Twitter Id                            556 non-null int64\n",
      "Category                              556 non-null object\n",
      "contributors_enabled                  515 non-null object\n",
      "created_at                            515 non-null datetime64[ns]\n",
      "default_profile                       515 non-null object\n",
      "default_profile_image                 515 non-null object\n",
      "description                           515 non-null object\n",
      "entities                              515 non-null object\n",
      "favourites_count                      515 non-null float64\n",
      "follow_request_sent                   515 non-null object\n",
      "followers_count                       515 non-null float64\n",
      "following                             515 non-null object\n",
      "friends_count                         515 non-null float64\n",
      "geo_enabled                           515 non-null object\n",
      "has_extended_profile                  515 non-null object\n",
      "id_str                                515 non-null float64\n",
      "is_translation_enabled                515 non-null object\n",
      "is_translator                         515 non-null object\n",
      "lang                                  515 non-null object\n",
      "listed_count                          515 non-null float64\n",
      "location                              515 non-null object\n",
      "name                                  515 non-null object\n",
      "notifications                         515 non-null object\n",
      "profile_background_color              515 non-null object\n",
      "profile_background_image_url          370 non-null object\n",
      "profile_background_image_url_https    370 non-null object\n",
      "profile_background_tile               515 non-null object\n",
      "profile_banner_url                    353 non-null object\n",
      "profile_image_url                     515 non-null object\n",
      "profile_image_url_https               515 non-null object\n",
      "profile_link_color                    515 non-null object\n",
      "profile_sidebar_border_color          515 non-null object\n",
      "profile_sidebar_fill_color            515 non-null object\n",
      "profile_text_color                    515 non-null object\n",
      "profile_use_background_image          515 non-null object\n",
      "protected                             515 non-null object\n",
      "screen_name                           515 non-null object\n",
      "status                                481 non-null object\n",
      "statuses_count                        515 non-null float64\n",
      "time_zone                             0 non-null float64\n",
      "translator_type                       515 non-null object\n",
      "url                                   233 non-null object\n",
      "utc_offset                            0 non-null float64\n",
      "verified                              515 non-null object\n",
      "dtypes: datetime64[ns](1), float64(8), int64(1), object(34)\n",
      "memory usage: 195.5+ KB\n"
     ]
    }
   ],
   "source": [
    "users_full.info()"
   ]
  },
  {
   "cell_type": "code",
   "execution_count": 15,
   "metadata": {},
   "outputs": [
    {
     "data": {
      "text/plain": [
       "{'created_at': 'Wed Sep 26 17:41:00 +0000 2018',\n",
       " 'id': 1045005329950543873,\n",
       " 'id_str': '1045005329950543873',\n",
       " 'text': 'SODC Planning Committee tonight at Didcot Civic Hall. Some interesting cases on the agenda including Wyevale at Hen… https://t.co/orVajyM0Jx',\n",
       " 'truncated': True,\n",
       " 'entities': {'hashtags': [],\n",
       "  'symbols': [],\n",
       "  'user_mentions': [],\n",
       "  'urls': [{'url': 'https://t.co/orVajyM0Jx',\n",
       "    'expanded_url': 'https://twitter.com/i/web/status/1045005329950543873',\n",
       "    'display_url': 'twitter.com/i/web/status/1…',\n",
       "    'indices': [117, 140]}]},\n",
       " 'source': '<a href=\"https://buffer.com\" rel=\"nofollow\">Buffer</a>',\n",
       " 'in_reply_to_status_id': None,\n",
       " 'in_reply_to_status_id_str': None,\n",
       " 'in_reply_to_user_id': None,\n",
       " 'in_reply_to_user_id_str': None,\n",
       " 'in_reply_to_screen_name': None,\n",
       " 'geo': None,\n",
       " 'coordinates': None,\n",
       " 'place': None,\n",
       " 'contributors': None,\n",
       " 'is_quote_status': False,\n",
       " 'retweet_count': 1,\n",
       " 'favorite_count': 1,\n",
       " 'favorited': False,\n",
       " 'retweeted': False,\n",
       " 'lang': 'en'}"
      ]
     },
     "execution_count": 15,
     "metadata": {},
     "output_type": "execute_result"
    }
   ],
   "source": [
    "users_full['status'][0]"
   ]
  },
  {
   "cell_type": "markdown",
   "metadata": {},
   "source": [
    "There are lots of information we can get but for purpose of this assignment, I just want to collect the recent tweet from each of users."
   ]
  },
  {
   "cell_type": "code",
   "execution_count": 16,
   "metadata": {},
   "outputs": [],
   "source": [
    "data = users_full[['Twitter Id','Category','status']]"
   ]
  },
  {
   "cell_type": "code",
   "execution_count": 17,
   "metadata": {},
   "outputs": [
    {
     "data": {
      "text/html": [
       "<div>\n",
       "<style scoped>\n",
       "    .dataframe tbody tr th:only-of-type {\n",
       "        vertical-align: middle;\n",
       "    }\n",
       "\n",
       "    .dataframe tbody tr th {\n",
       "        vertical-align: top;\n",
       "    }\n",
       "\n",
       "    .dataframe thead th {\n",
       "        text-align: right;\n",
       "    }\n",
       "</style>\n",
       "<table border=\"1\" class=\"dataframe\">\n",
       "  <thead>\n",
       "    <tr style=\"text-align: right;\">\n",
       "      <th></th>\n",
       "      <th>Twitter Id</th>\n",
       "      <th>Category</th>\n",
       "      <th>status</th>\n",
       "    </tr>\n",
       "  </thead>\n",
       "  <tbody>\n",
       "    <tr>\n",
       "      <th>0</th>\n",
       "      <td>4912945864</td>\n",
       "      <td>Politician</td>\n",
       "      <td>{'created_at': 'Wed Sep 26 17:41:00 +0000 2018...</td>\n",
       "    </tr>\n",
       "    <tr>\n",
       "      <th>1</th>\n",
       "      <td>1900694785</td>\n",
       "      <td>Politician</td>\n",
       "      <td>{'created_at': 'Wed Jan 18 12:02:53 +0000 2017...</td>\n",
       "    </tr>\n",
       "    <tr>\n",
       "      <th>2</th>\n",
       "      <td>1887255132</td>\n",
       "      <td>Politician</td>\n",
       "      <td>{'created_at': 'Sun Sep 16 12:08:47 +0000 2018...</td>\n",
       "    </tr>\n",
       "    <tr>\n",
       "      <th>3</th>\n",
       "      <td>1873380343</td>\n",
       "      <td>Politician</td>\n",
       "      <td>{'created_at': 'Fri Jul 27 00:45:10 +0000 2018...</td>\n",
       "    </tr>\n",
       "    <tr>\n",
       "      <th>4</th>\n",
       "      <td>1872999342</td>\n",
       "      <td>Politician</td>\n",
       "      <td>{'created_at': 'Tue Dec 19 22:17:23 +0000 2017...</td>\n",
       "    </tr>\n",
       "  </tbody>\n",
       "</table>\n",
       "</div>"
      ],
      "text/plain": [
       "   Twitter Id    Category                                             status\n",
       "0  4912945864  Politician  {'created_at': 'Wed Sep 26 17:41:00 +0000 2018...\n",
       "1  1900694785  Politician  {'created_at': 'Wed Jan 18 12:02:53 +0000 2017...\n",
       "2  1887255132  Politician  {'created_at': 'Sun Sep 16 12:08:47 +0000 2018...\n",
       "3  1873380343  Politician  {'created_at': 'Fri Jul 27 00:45:10 +0000 2018...\n",
       "4  1872999342  Politician  {'created_at': 'Tue Dec 19 22:17:23 +0000 2017..."
      ]
     },
     "execution_count": 17,
     "metadata": {},
     "output_type": "execute_result"
    }
   ],
   "source": [
    "data.head()"
   ]
  },
  {
   "cell_type": "code",
   "execution_count": 18,
   "metadata": {},
   "outputs": [
    {
     "name": "stdout",
     "output_type": "stream",
     "text": [
      "<class 'pandas.core.frame.DataFrame'>\n",
      "Int64Index: 556 entries, 0 to 555\n",
      "Data columns (total 3 columns):\n",
      "Twitter Id    556 non-null int64\n",
      "Category      556 non-null object\n",
      "status        481 non-null object\n",
      "dtypes: int64(1), object(2)\n",
      "memory usage: 37.4+ KB\n"
     ]
    }
   ],
   "source": [
    "data.info()"
   ]
  },
  {
   "cell_type": "markdown",
   "metadata": {},
   "source": [
    "Remove some missing values in the `status` column."
   ]
  },
  {
   "cell_type": "code",
   "execution_count": 19,
   "metadata": {},
   "outputs": [
    {
     "name": "stdout",
     "output_type": "stream",
     "text": [
      "<class 'pandas.core.frame.DataFrame'>\n",
      "RangeIndex: 481 entries, 0 to 480\n",
      "Data columns (total 3 columns):\n",
      "Twitter Id    481 non-null int64\n",
      "Category      481 non-null object\n",
      "status        481 non-null object\n",
      "dtypes: int64(1), object(2)\n",
      "memory usage: 11.4+ KB\n"
     ]
    }
   ],
   "source": [
    "data = data[pd.notnull(data['status'])]\n",
    "data = data.reset_index(drop=True)\n",
    "data.info()"
   ]
  },
  {
   "cell_type": "code",
   "execution_count": 20,
   "metadata": {},
   "outputs": [
    {
     "data": {
      "text/html": [
       "<div>\n",
       "<style scoped>\n",
       "    .dataframe tbody tr th:only-of-type {\n",
       "        vertical-align: middle;\n",
       "    }\n",
       "\n",
       "    .dataframe tbody tr th {\n",
       "        vertical-align: top;\n",
       "    }\n",
       "\n",
       "    .dataframe thead th {\n",
       "        text-align: right;\n",
       "    }\n",
       "</style>\n",
       "<table border=\"1\" class=\"dataframe\">\n",
       "  <thead>\n",
       "    <tr style=\"text-align: right;\">\n",
       "      <th></th>\n",
       "      <th>Twitter Id</th>\n",
       "      <th>Category</th>\n",
       "      <th>tweets</th>\n",
       "    </tr>\n",
       "  </thead>\n",
       "  <tbody>\n",
       "    <tr>\n",
       "      <th>0</th>\n",
       "      <td>4912945864</td>\n",
       "      <td>Politician</td>\n",
       "      <td>SODC Planning Committee tonight at Didcot Civi...</td>\n",
       "    </tr>\n",
       "    <tr>\n",
       "      <th>1</th>\n",
       "      <td>1900694785</td>\n",
       "      <td>Politician</td>\n",
       "      <td>今まで本当にありがとうございました。今後は@USEmbassyTokyoをフォローしてくださ...</td>\n",
       "    </tr>\n",
       "    <tr>\n",
       "      <th>2</th>\n",
       "      <td>1887255132</td>\n",
       "      <td>Politician</td>\n",
       "      <td>@MrRawle Well deserved. Congratulations!!!</td>\n",
       "    </tr>\n",
       "    <tr>\n",
       "      <th>3</th>\n",
       "      <td>1873380343</td>\n",
       "      <td>Politician</td>\n",
       "      <td>2 people unfollowed me // automatically checke...</td>\n",
       "    </tr>\n",
       "    <tr>\n",
       "      <th>4</th>\n",
       "      <td>1872999342</td>\n",
       "      <td>Politician</td>\n",
       "      <td>RT @lilybatch: New estimates: Final tax plan w...</td>\n",
       "    </tr>\n",
       "  </tbody>\n",
       "</table>\n",
       "</div>"
      ],
      "text/plain": [
       "   Twitter Id    Category                                             tweets\n",
       "0  4912945864  Politician  SODC Planning Committee tonight at Didcot Civi...\n",
       "1  1900694785  Politician  今まで本当にありがとうございました。今後は@USEmbassyTokyoをフォローしてくださ...\n",
       "2  1887255132  Politician         @MrRawle Well deserved. Congratulations!!!\n",
       "3  1873380343  Politician  2 people unfollowed me // automatically checke...\n",
       "4  1872999342  Politician  RT @lilybatch: New estimates: Final tax plan w..."
      ]
     },
     "execution_count": 20,
     "metadata": {},
     "output_type": "execute_result"
    }
   ],
   "source": [
    "data['tweets'] = [data['status'][i].get('text') for i in range(0,len(data))]\n",
    "data = data.drop('status', axis=1)\n",
    "data.head()"
   ]
  },
  {
   "cell_type": "markdown",
   "metadata": {},
   "source": [
    "Save the `data` to the `data.csv` file."
   ]
  },
  {
   "cell_type": "code",
   "execution_count": 21,
   "metadata": {},
   "outputs": [],
   "source": [
    "data.to_csv('data.csv', index=False)"
   ]
  },
  {
   "cell_type": "markdown",
   "metadata": {},
   "source": [
    "# 2. Data preprocessing\n",
    "In this step I will do cleansing: remove URLs, usernames(mentions), tweets not available text, hashtag, numbers, special characters; text processing: tokenize, transform to lowercase."
   ]
  },
  {
   "cell_type": "code",
   "execution_count": 22,
   "metadata": {},
   "outputs": [
    {
     "name": "stderr",
     "output_type": "stream",
     "text": [
      "C:\\Users\\Augustine\\Anaconda3\\lib\\site-packages\\gensim\\utils.py:1209: UserWarning: detected Windows; aliasing chunkize to chunkize_serial\n",
      "  warnings.warn(\"detected Windows; aliasing chunkize to chunkize_serial\")\n"
     ]
    }
   ],
   "source": [
    "import matplotlib.pyplot as plt\n",
    "import seaborn as sns\n",
    "from bs4 import BeautifulSoup\n",
    "from collections import Counter\n",
    "from nltk.tokenize import WordPunctTokenizer\n",
    "from nltk.corpus import stopwords\n",
    "import string\n",
    "import re \n",
    "import gensim\n",
    "import warnings\n",
    "warnings.filterwarnings('ignore')\n",
    "sns.set()"
   ]
  },
  {
   "cell_type": "markdown",
   "metadata": {},
   "source": [
    "Defining data cleaning function"
   ]
  },
  {
   "cell_type": "code",
   "execution_count": 23,
   "metadata": {},
   "outputs": [],
   "source": [
    "tok = WordPunctTokenizer()\n",
    "\n",
    "pat1 = r'RT @[A-Za-z0-9_]+'\n",
    "pat2 = r'https?://[^ ]+'\n",
    "combined_pat = r'|'.join((pat1, pat2))\n",
    "www_pat = r'www.[^ ]+'\n",
    "negations_dic = {\"isn't\":\"is not\", \"aren't\":\"are not\", \"wasn't\":\"was not\", \"weren't\":\"were not\",\n",
    "                \"haven't\":\"have not\",\"hasn't\":\"has not\",\"hadn't\":\"had not\",\"won't\":\"will not\",\n",
    "                \"wouldn't\":\"would not\", \"don't\":\"do not\", \"doesn't\":\"does not\",\"didn't\":\"did not\",\n",
    "                \"can't\":\"can not\",\"couldn't\":\"could not\",\"shouldn't\":\"should not\",\"mightn't\":\"might not\",\n",
    "                \"mustn't\":\"must not\"}\n",
    "neg_pattern = re.compile(r'\\b(' + '|'.join(negations_dic.keys()) + r')\\b')\n",
    "\n",
    "def tweet_cleaner(text):\n",
    "    soup = BeautifulSoup(text, 'lxml')\n",
    "    souped = soup.get_text()\n",
    "    try:\n",
    "        bom_removed = souped.decode(\"utf-8-sig\").replace(u\"\\ufffd\", \"?\")\n",
    "    except:\n",
    "        bom_removed = souped\n",
    "    stripped = re.sub(combined_pat, '', bom_removed)\n",
    "    stripped = re.sub(www_pat, '', stripped)\n",
    "    lower_case = stripped.lower()\n",
    "    neg_handled = neg_pattern.sub(lambda x: negations_dic[x.group()], lower_case)\n",
    "    letters_only = re.sub(\"[^a-zA-Z]\", \" \", neg_handled)\n",
    "    # During the letters_only process two lines above, it has created unnecessay white spaces,\n",
    "    # I will tokenize and join together to remove unneccessary white spaces\n",
    "    words = [x for x  in tok.tokenize(letters_only) if len(x) > 1]\n",
    "    return (\" \".join(words)).strip()"
   ]
  },
  {
   "cell_type": "markdown",
   "metadata": {},
   "source": [
    "Apply `tweet_cleaner` function"
   ]
  },
  {
   "cell_type": "code",
   "execution_count": 24,
   "metadata": {},
   "outputs": [],
   "source": [
    "tweets_list = data.tweets.tolist()\n",
    "results = []\n",
    "for t in tweets_list:\n",
    "    results.append(tweet_cleaner(t))"
   ]
  },
  {
   "cell_type": "code",
   "execution_count": 25,
   "metadata": {},
   "outputs": [
    {
     "data": {
      "text/html": [
       "<div>\n",
       "<style scoped>\n",
       "    .dataframe tbody tr th:only-of-type {\n",
       "        vertical-align: middle;\n",
       "    }\n",
       "\n",
       "    .dataframe tbody tr th {\n",
       "        vertical-align: top;\n",
       "    }\n",
       "\n",
       "    .dataframe thead th {\n",
       "        text-align: right;\n",
       "    }\n",
       "</style>\n",
       "<table border=\"1\" class=\"dataframe\">\n",
       "  <thead>\n",
       "    <tr style=\"text-align: right;\">\n",
       "      <th></th>\n",
       "      <th>tweet</th>\n",
       "      <th>category</th>\n",
       "      <th>id</th>\n",
       "    </tr>\n",
       "  </thead>\n",
       "  <tbody>\n",
       "    <tr>\n",
       "      <th>0</th>\n",
       "      <td>sodc planning committee tonight at didcot civi...</td>\n",
       "      <td>Politician</td>\n",
       "      <td>4912945864</td>\n",
       "    </tr>\n",
       "    <tr>\n",
       "      <th>1</th>\n",
       "      <td>usembassytokyo imamade hontoni arigato gozaima...</td>\n",
       "      <td>Politician</td>\n",
       "      <td>1900694785</td>\n",
       "    </tr>\n",
       "    <tr>\n",
       "      <th>2</th>\n",
       "      <td>mrrawle well deserved congratulations</td>\n",
       "      <td>Politician</td>\n",
       "      <td>1887255132</td>\n",
       "    </tr>\n",
       "    <tr>\n",
       "      <th>3</th>\n",
       "      <td>people unfollowed me automatically checked by</td>\n",
       "      <td>Politician</td>\n",
       "      <td>1873380343</td>\n",
       "    </tr>\n",
       "    <tr>\n",
       "      <th>4</th>\n",
       "      <td>new estimates final tax plan would raise taxes...</td>\n",
       "      <td>Politician</td>\n",
       "      <td>1872999342</td>\n",
       "    </tr>\n",
       "  </tbody>\n",
       "</table>\n",
       "</div>"
      ],
      "text/plain": [
       "                                               tweet    category          id\n",
       "0  sodc planning committee tonight at didcot civi...  Politician  4912945864\n",
       "1  usembassytokyo imamade hontoni arigato gozaima...  Politician  1900694785\n",
       "2              mrrawle well deserved congratulations  Politician  1887255132\n",
       "3      people unfollowed me automatically checked by  Politician  1873380343\n",
       "4  new estimates final tax plan would raise taxes...  Politician  1872999342"
      ]
     },
     "execution_count": 25,
     "metadata": {},
     "output_type": "execute_result"
    }
   ],
   "source": [
    "clean_data = pd.DataFrame(results,columns=['tweet'])\n",
    "clean_data['category'] = data['Category']\n",
    "clean_data['id'] = data['Twitter Id']\n",
    "clean_data.head()"
   ]
  },
  {
   "cell_type": "code",
   "execution_count": 26,
   "metadata": {},
   "outputs": [
    {
     "name": "stdout",
     "output_type": "stream",
     "text": [
      "<class 'pandas.core.frame.DataFrame'>\n",
      "RangeIndex: 481 entries, 0 to 480\n",
      "Data columns (total 3 columns):\n",
      "tweet       481 non-null object\n",
      "category    481 non-null object\n",
      "id          481 non-null int64\n",
      "dtypes: int64(1), object(2)\n",
      "memory usage: 11.4+ KB\n"
     ]
    }
   ],
   "source": [
    "clean_data.info()"
   ]
  },
  {
   "cell_type": "code",
   "execution_count": 27,
   "metadata": {},
   "outputs": [],
   "source": [
    "clean_data.to_csv('clean_data.csv', index=False, encoding='utf-8')"
   ]
  },
  {
   "cell_type": "markdown",
   "metadata": {},
   "source": [
    "# 3. Exploratory data analysis (EDA)\n",
    "Before do data visualization, I want to known that what kind of words are used in the tweets, and how many times it is used in entire corpus. I used count vectorizer to calculate the term frequencies.\n",
    "There are parameter options available for count vectorizer, such as removing stop words, limiting the maximum number of terms. However, I just implemented with stop words included, and not limiting the maximum number of terms."
   ]
  },
  {
   "cell_type": "code",
   "execution_count": 28,
   "metadata": {},
   "outputs": [],
   "source": [
    "from sklearn.feature_extraction.text import CountVectorizer"
   ]
  },
  {
   "cell_type": "code",
   "execution_count": 29,
   "metadata": {},
   "outputs": [],
   "source": [
    "data = clean_data.copy()\n",
    "data.dropna(inplace=True)\n",
    "data.reset_index(drop=True,inplace=True)"
   ]
  },
  {
   "cell_type": "code",
   "execution_count": 30,
   "metadata": {},
   "outputs": [
    {
     "name": "stdout",
     "output_type": "stream",
     "text": [
      "<class 'pandas.core.frame.DataFrame'>\n",
      "RangeIndex: 481 entries, 0 to 480\n",
      "Data columns (total 3 columns):\n",
      "tweet       481 non-null object\n",
      "category    481 non-null object\n",
      "id          481 non-null int64\n",
      "dtypes: int64(1), object(2)\n",
      "memory usage: 11.4+ KB\n"
     ]
    }
   ],
   "source": [
    "data.info()"
   ]
  },
  {
   "cell_type": "code",
   "execution_count": 31,
   "metadata": {},
   "outputs": [
    {
     "data": {
      "text/plain": [
       "CountVectorizer(analyzer='word', binary=False, decode_error='strict',\n",
       "        dtype=<class 'numpy.int64'>, encoding='utf-8', input='content',\n",
       "        lowercase=True, max_df=1.0, max_features=None, min_df=1,\n",
       "        ngram_range=(1, 1), preprocessor=None, stop_words=None,\n",
       "        strip_accents=None, token_pattern='(?u)\\\\b\\\\w\\\\w+\\\\b',\n",
       "        tokenizer=None, vocabulary=None)"
      ]
     },
     "execution_count": 31,
     "metadata": {},
     "output_type": "execute_result"
    }
   ],
   "source": [
    "cvec = CountVectorizer()\n",
    "cvec.fit(data.tweet)"
   ]
  },
  {
   "cell_type": "code",
   "execution_count": 32,
   "metadata": {},
   "outputs": [
    {
     "data": {
      "text/plain": [
       "2907"
      ]
     },
     "execution_count": 32,
     "metadata": {},
     "output_type": "execute_result"
    }
   ],
   "source": [
    "len(cvec.get_feature_names()) # 2931 words out of the corpus"
   ]
  },
  {
   "cell_type": "code",
   "execution_count": 33,
   "metadata": {},
   "outputs": [
    {
     "data": {
      "text/plain": [
       "Journalist    224\n",
       "Trader        144\n",
       "Politician    113\n",
       "Name: category, dtype: int64"
      ]
     },
     "execution_count": 33,
     "metadata": {},
     "output_type": "execute_result"
    }
   ],
   "source": [
    "data.category.value_counts()"
   ]
  },
  {
   "cell_type": "markdown",
   "metadata": {},
   "source": [
    "Getting term frequency for each class can be obtained with the below code block."
   ]
  },
  {
   "cell_type": "code",
   "execution_count": 34,
   "metadata": {},
   "outputs": [],
   "source": [
    "journalist_doc_matrix = cvec.transform(data[data.category == 'Journalist'].tweet)\n",
    "trader_doc_matrix = cvec.transform(data[data.category == 'Trader'].tweet)\n",
    "politician_doc_matrix = cvec.transform(data[data.category == 'Politician'].tweet)\n",
    "\n",
    "journalist_tf = np.sum(journalist_doc_matrix,axis=0)\n",
    "trader_tf = np.sum(trader_doc_matrix,axis=0)\n",
    "politician_tf = np.sum(politician_doc_matrix,axis=0)\n",
    "\n",
    "journalist = np.squeeze(np.asarray(journalist_tf))\n",
    "trader = np.squeeze(np.asarray(trader_tf))\n",
    "politician =  np.squeeze(np.asarray(politician_tf))\n",
    "\n",
    "term_freq_df = pd.DataFrame([journalist,trader,politician],columns=cvec.get_feature_names()).transpose()"
   ]
  },
  {
   "cell_type": "code",
   "execution_count": 35,
   "metadata": {},
   "outputs": [],
   "source": [
    "document_matrix = cvec.transform(data.tweet)"
   ]
  },
  {
   "cell_type": "code",
   "execution_count": 36,
   "metadata": {},
   "outputs": [
    {
     "data": {
      "text/html": [
       "<div>\n",
       "<style scoped>\n",
       "    .dataframe tbody tr th:only-of-type {\n",
       "        vertical-align: middle;\n",
       "    }\n",
       "\n",
       "    .dataframe tbody tr th {\n",
       "        vertical-align: top;\n",
       "    }\n",
       "\n",
       "    .dataframe thead th {\n",
       "        text-align: right;\n",
       "    }\n",
       "</style>\n",
       "<table border=\"1\" class=\"dataframe\">\n",
       "  <thead>\n",
       "    <tr style=\"text-align: right;\">\n",
       "      <th></th>\n",
       "      <th>tweet</th>\n",
       "      <th>category</th>\n",
       "      <th>id</th>\n",
       "    </tr>\n",
       "  </thead>\n",
       "  <tbody>\n",
       "    <tr>\n",
       "      <th>108</th>\n",
       "      <td>should charges have been laid</td>\n",
       "      <td>Politician</td>\n",
       "      <td>122487895</td>\n",
       "    </tr>\n",
       "    <tr>\n",
       "      <th>109</th>\n",
       "      <td>social media can be useful tool for communicat...</td>\n",
       "      <td>Politician</td>\n",
       "      <td>121484113</td>\n",
       "    </tr>\n",
       "    <tr>\n",
       "      <th>110</th>\n",
       "      <td>reverse conference bounce for lab in any case ...</td>\n",
       "      <td>Politician</td>\n",
       "      <td>121127090</td>\n",
       "    </tr>\n",
       "    <tr>\n",
       "      <th>111</th>\n",
       "      <td>trump signs billion bill to give vets more hea...</td>\n",
       "      <td>Politician</td>\n",
       "      <td>120334688</td>\n",
       "    </tr>\n",
       "    <tr>\n",
       "      <th>112</th>\n",
       "      <td>this this is all you need to know after years ...</td>\n",
       "      <td>Politician</td>\n",
       "      <td>118429508</td>\n",
       "    </tr>\n",
       "  </tbody>\n",
       "</table>\n",
       "</div>"
      ],
      "text/plain": [
       "                                                 tweet    category         id\n",
       "108                      should charges have been laid  Politician  122487895\n",
       "109  social media can be useful tool for communicat...  Politician  121484113\n",
       "110  reverse conference bounce for lab in any case ...  Politician  121127090\n",
       "111  trump signs billion bill to give vets more hea...  Politician  120334688\n",
       "112  this this is all you need to know after years ...  Politician  118429508"
      ]
     },
     "execution_count": 36,
     "metadata": {},
     "output_type": "execute_result"
    }
   ],
   "source": [
    "data[data.category == 'Politician'].tail()"
   ]
  },
  {
   "cell_type": "code",
   "execution_count": 37,
   "metadata": {},
   "outputs": [
    {
     "name": "stdout",
     "output_type": "stream",
     "text": [
      "1 entries' term freuquency calculated\n",
      "12 entries' term freuquency calculated\n",
      "23 entries' term freuquency calculated\n",
      "35 entries' term freuquency calculated\n",
      "46 entries' term freuquency calculated\n",
      "58 entries' term freuquency calculated\n",
      "69 entries' term freuquency calculated\n",
      "81 entries' term freuquency calculated\n",
      "92 entries' term freuquency calculated\n",
      "103 entries' term freuquency calculated\n",
      "113 entries' term freuquency calculated\n",
      "Wall time: 31.2 ms\n"
     ]
    }
   ],
   "source": [
    "%%time\n",
    "politician_batches = np.linspace(0,113,100).astype(int)\n",
    "i=0\n",
    "politician_tf = []\n",
    "while i < len(politician_batches)-1:\n",
    "    batch_result = np.sum(document_matrix[politician_batches[i]:politician_batches[i+1]].toarray(),axis=0)\n",
    "    politician_tf.append(batch_result)\n",
    "    if (i % 10 == 0) | (i == len(politician_batches)-2):\n",
    "        print(politician_batches[i+1],\"entries' term freuquency calculated\")\n",
    "    i += 1"
   ]
  },
  {
   "cell_type": "code",
   "execution_count": 38,
   "metadata": {},
   "outputs": [
    {
     "data": {
      "text/html": [
       "<div>\n",
       "<style scoped>\n",
       "    .dataframe tbody tr th:only-of-type {\n",
       "        vertical-align: middle;\n",
       "    }\n",
       "\n",
       "    .dataframe tbody tr th {\n",
       "        vertical-align: top;\n",
       "    }\n",
       "\n",
       "    .dataframe thead th {\n",
       "        text-align: right;\n",
       "    }\n",
       "</style>\n",
       "<table border=\"1\" class=\"dataframe\">\n",
       "  <thead>\n",
       "    <tr style=\"text-align: right;\">\n",
       "      <th></th>\n",
       "      <th>tweet</th>\n",
       "      <th>category</th>\n",
       "      <th>id</th>\n",
       "    </tr>\n",
       "  </thead>\n",
       "  <tbody>\n",
       "    <tr>\n",
       "      <th>113</th>\n",
       "      <td>laminine stardnienie rozsiane sm</td>\n",
       "      <td>Trader</td>\n",
       "      <td>1898394962</td>\n",
       "    </tr>\n",
       "    <tr>\n",
       "      <th>114</th>\n",
       "      <td>sorry for not being online guys ll be back in ...</td>\n",
       "      <td>Trader</td>\n",
       "      <td>1895120856</td>\n",
       "    </tr>\n",
       "    <tr>\n",
       "      <th>115</th>\n",
       "      <td>eminiplayer mac book air</td>\n",
       "      <td>Trader</td>\n",
       "      <td>1893573728</td>\n",
       "    </tr>\n",
       "    <tr>\n",
       "      <th>116</th>\n",
       "      <td>get free demo account when you register with g...</td>\n",
       "      <td>Trader</td>\n",
       "      <td>1885693524</td>\n",
       "    </tr>\n",
       "    <tr>\n",
       "      <th>117</th>\n",
       "      <td>ahahha this sounds optimistic meanwhile the ja...</td>\n",
       "      <td>Trader</td>\n",
       "      <td>1885361696</td>\n",
       "    </tr>\n",
       "  </tbody>\n",
       "</table>\n",
       "</div>"
      ],
      "text/plain": [
       "                                                 tweet category          id\n",
       "113                   laminine stardnienie rozsiane sm   Trader  1898394962\n",
       "114  sorry for not being online guys ll be back in ...   Trader  1895120856\n",
       "115                           eminiplayer mac book air   Trader  1893573728\n",
       "116  get free demo account when you register with g...   Trader  1885693524\n",
       "117  ahahha this sounds optimistic meanwhile the ja...   Trader  1885361696"
      ]
     },
     "execution_count": 38,
     "metadata": {},
     "output_type": "execute_result"
    }
   ],
   "source": [
    "data[data.category == 'Trader'].head()"
   ]
  },
  {
   "cell_type": "code",
   "execution_count": 39,
   "metadata": {},
   "outputs": [
    {
     "data": {
      "text/html": [
       "<div>\n",
       "<style scoped>\n",
       "    .dataframe tbody tr th:only-of-type {\n",
       "        vertical-align: middle;\n",
       "    }\n",
       "\n",
       "    .dataframe tbody tr th {\n",
       "        vertical-align: top;\n",
       "    }\n",
       "\n",
       "    .dataframe thead th {\n",
       "        text-align: right;\n",
       "    }\n",
       "</style>\n",
       "<table border=\"1\" class=\"dataframe\">\n",
       "  <thead>\n",
       "    <tr style=\"text-align: right;\">\n",
       "      <th></th>\n",
       "      <th>tweet</th>\n",
       "      <th>category</th>\n",
       "      <th>id</th>\n",
       "    </tr>\n",
       "  </thead>\n",
       "  <tbody>\n",
       "    <tr>\n",
       "      <th>252</th>\n",
       "      <td>mini futures trading community at over new use...</td>\n",
       "      <td>Trader</td>\n",
       "      <td>120317534</td>\n",
       "    </tr>\n",
       "    <tr>\n",
       "      <th>253</th>\n",
       "      <td>my lovely girl is doing moonwalk this weekend ...</td>\n",
       "      <td>Trader</td>\n",
       "      <td>119391979</td>\n",
       "    </tr>\n",
       "    <tr>\n",
       "      <th>254</th>\n",
       "      <td>dec contract</td>\n",
       "      <td>Trader</td>\n",
       "      <td>118133820</td>\n",
       "    </tr>\n",
       "    <tr>\n",
       "      <th>255</th>\n",
       "      <td>bearish picks for axp fslr gas gild lltc nsm p...</td>\n",
       "      <td>Trader</td>\n",
       "      <td>118042818</td>\n",
       "    </tr>\n",
       "    <tr>\n",
       "      <th>256</th>\n",
       "      <td></td>\n",
       "      <td>Trader</td>\n",
       "      <td>117657763</td>\n",
       "    </tr>\n",
       "  </tbody>\n",
       "</table>\n",
       "</div>"
      ],
      "text/plain": [
       "                                                 tweet category         id\n",
       "252  mini futures trading community at over new use...   Trader  120317534\n",
       "253  my lovely girl is doing moonwalk this weekend ...   Trader  119391979\n",
       "254                                       dec contract   Trader  118133820\n",
       "255  bearish picks for axp fslr gas gild lltc nsm p...   Trader  118042818\n",
       "256                                                      Trader  117657763"
      ]
     },
     "execution_count": 39,
     "metadata": {},
     "output_type": "execute_result"
    }
   ],
   "source": [
    "data[data.category == 'Trader'].tail()"
   ]
  },
  {
   "cell_type": "code",
   "execution_count": 40,
   "metadata": {},
   "outputs": [
    {
     "name": "stdout",
     "output_type": "stream",
     "text": [
      "114 entries' term freuquency calculated\n",
      "129 entries' term freuquency calculated\n",
      "143 entries' term freuquency calculated\n",
      "158 entries' term freuquency calculated\n",
      "172 entries' term freuquency calculated\n",
      "187 entries' term freuquency calculated\n",
      "201 entries' term freuquency calculated\n",
      "216 entries' term freuquency calculated\n",
      "230 entries' term freuquency calculated\n",
      "245 entries' term freuquency calculated\n",
      "257 entries' term freuquency calculated\n",
      "Wall time: 19.4 ms\n"
     ]
    }
   ],
   "source": [
    "%%time\n",
    "trader_batches = np.linspace(113,257,100).astype(int)\n",
    "i=0\n",
    "trader_tf = []\n",
    "while i < len(trader_batches)-1:\n",
    "    batch_result = np.sum(document_matrix[trader_batches[i]:trader_batches[i+1]].toarray(),axis=0)\n",
    "    trader_tf.append(batch_result)\n",
    "    if (i % 10 == 0) | (i == len(trader_batches)-2):\n",
    "        print(trader_batches[i+1],\"entries' term freuquency calculated\")\n",
    "    i += 1"
   ]
  },
  {
   "cell_type": "code",
   "execution_count": 41,
   "metadata": {},
   "outputs": [
    {
     "data": {
      "text/html": [
       "<div>\n",
       "<style scoped>\n",
       "    .dataframe tbody tr th:only-of-type {\n",
       "        vertical-align: middle;\n",
       "    }\n",
       "\n",
       "    .dataframe tbody tr th {\n",
       "        vertical-align: top;\n",
       "    }\n",
       "\n",
       "    .dataframe thead th {\n",
       "        text-align: right;\n",
       "    }\n",
       "</style>\n",
       "<table border=\"1\" class=\"dataframe\">\n",
       "  <thead>\n",
       "    <tr style=\"text-align: right;\">\n",
       "      <th></th>\n",
       "      <th>tweet</th>\n",
       "      <th>category</th>\n",
       "      <th>id</th>\n",
       "    </tr>\n",
       "  </thead>\n",
       "  <tbody>\n",
       "    <tr>\n",
       "      <th>476</th>\n",
       "      <td>colleen ham thank you so much</td>\n",
       "      <td>Journalist</td>\n",
       "      <td>4872732821</td>\n",
       "    </tr>\n",
       "    <tr>\n",
       "      <th>477</th>\n",
       "      <td>judge dismissed the murder charge against keit...</td>\n",
       "      <td>Journalist</td>\n",
       "      <td>4872357934</td>\n",
       "    </tr>\n",
       "    <tr>\n",
       "      <th>478</th>\n",
       "      <td>thanks to davenewbart for indulging me today a...</td>\n",
       "      <td>Journalist</td>\n",
       "      <td>4872354465</td>\n",
       "    </tr>\n",
       "    <tr>\n",
       "      <th>479</th>\n",
       "      <td>virgin media outage or service down current pr...</td>\n",
       "      <td>Journalist</td>\n",
       "      <td>4872197440</td>\n",
       "    </tr>\n",
       "    <tr>\n",
       "      <th>480</th>\n",
       "      <td>la fiestaca</td>\n",
       "      <td>Journalist</td>\n",
       "      <td>4872173549</td>\n",
       "    </tr>\n",
       "  </tbody>\n",
       "</table>\n",
       "</div>"
      ],
      "text/plain": [
       "                                                 tweet    category          id\n",
       "476                      colleen ham thank you so much  Journalist  4872732821\n",
       "477  judge dismissed the murder charge against keit...  Journalist  4872357934\n",
       "478  thanks to davenewbart for indulging me today a...  Journalist  4872354465\n",
       "479  virgin media outage or service down current pr...  Journalist  4872197440\n",
       "480                                        la fiestaca  Journalist  4872173549"
      ]
     },
     "execution_count": 41,
     "metadata": {},
     "output_type": "execute_result"
    }
   ],
   "source": [
    "data[data.category == 'Journalist'].tail()"
   ]
  },
  {
   "cell_type": "code",
   "execution_count": 42,
   "metadata": {},
   "outputs": [
    {
     "name": "stdout",
     "output_type": "stream",
     "text": [
      "258 entries' term freuquency calculated\n",
      "281 entries' term freuquency calculated\n",
      "303 entries' term freuquency calculated\n",
      "326 entries' term freuquency calculated\n",
      "349 entries' term freuquency calculated\n",
      "371 entries' term freuquency calculated\n",
      "394 entries' term freuquency calculated\n",
      "417 entries' term freuquency calculated\n",
      "440 entries' term freuquency calculated\n",
      "462 entries' term freuquency calculated\n",
      "481 entries' term freuquency calculated\n",
      "Wall time: 24 ms\n"
     ]
    }
   ],
   "source": [
    "%%time\n",
    "journalist_batches = np.linspace(256,481,100).astype(int)\n",
    "i=0\n",
    "journalist_tf = []\n",
    "while i < len(journalist_batches)-1:\n",
    "    batch_result = np.sum(document_matrix[journalist_batches[i]:journalist_batches[i+1]].toarray(),axis=0)\n",
    "    journalist_tf.append(batch_result)\n",
    "    if (i % 10 == 0) | (i == len(journalist_batches)-2):\n",
    "        print(journalist_batches[i+1],\"entries' term freuquency calculated\")\n",
    "    i += 1"
   ]
  },
  {
   "cell_type": "code",
   "execution_count": 43,
   "metadata": {},
   "outputs": [
    {
     "data": {
      "text/html": [
       "<div>\n",
       "<style scoped>\n",
       "    .dataframe tbody tr th:only-of-type {\n",
       "        vertical-align: middle;\n",
       "    }\n",
       "\n",
       "    .dataframe tbody tr th {\n",
       "        vertical-align: top;\n",
       "    }\n",
       "\n",
       "    .dataframe thead th {\n",
       "        text-align: right;\n",
       "    }\n",
       "</style>\n",
       "<table border=\"1\" class=\"dataframe\">\n",
       "  <thead>\n",
       "    <tr style=\"text-align: right;\">\n",
       "      <th></th>\n",
       "      <th>0</th>\n",
       "      <th>1</th>\n",
       "      <th>2</th>\n",
       "    </tr>\n",
       "  </thead>\n",
       "  <tbody>\n",
       "    <tr>\n",
       "      <th>aaa</th>\n",
       "      <td>0</td>\n",
       "      <td>0</td>\n",
       "      <td>1</td>\n",
       "    </tr>\n",
       "    <tr>\n",
       "      <th>aapl</th>\n",
       "      <td>0</td>\n",
       "      <td>1</td>\n",
       "      <td>0</td>\n",
       "    </tr>\n",
       "    <tr>\n",
       "      <th>aaronw</th>\n",
       "      <td>0</td>\n",
       "      <td>1</td>\n",
       "      <td>0</td>\n",
       "    </tr>\n",
       "    <tr>\n",
       "      <th>abarth</th>\n",
       "      <td>1</td>\n",
       "      <td>0</td>\n",
       "      <td>0</td>\n",
       "    </tr>\n",
       "    <tr>\n",
       "      <th>abc</th>\n",
       "      <td>1</td>\n",
       "      <td>0</td>\n",
       "      <td>0</td>\n",
       "    </tr>\n",
       "  </tbody>\n",
       "</table>\n",
       "</div>"
      ],
      "text/plain": [
       "        0  1  2\n",
       "aaa     0  0  1\n",
       "aapl    0  1  0\n",
       "aaronw  0  1  0\n",
       "abarth  1  0  0\n",
       "abc     1  0  0"
      ]
     },
     "execution_count": 43,
     "metadata": {},
     "output_type": "execute_result"
    }
   ],
   "source": [
    "journalist = np.sum(journalist_tf,axis=0)\n",
    "trader = np.sum(trader_tf,axis=0)\n",
    "politician = np.sum(politician_tf,axis=0)\n",
    "term_freq_df = pd.DataFrame([journalist,trader,politician],columns=cvec.get_feature_names()).transpose()\n",
    "term_freq_df.head()"
   ]
  },
  {
   "cell_type": "code",
   "execution_count": 44,
   "metadata": {},
   "outputs": [
    {
     "data": {
      "text/html": [
       "<div>\n",
       "<style scoped>\n",
       "    .dataframe tbody tr th:only-of-type {\n",
       "        vertical-align: middle;\n",
       "    }\n",
       "\n",
       "    .dataframe tbody tr th {\n",
       "        vertical-align: top;\n",
       "    }\n",
       "\n",
       "    .dataframe thead th {\n",
       "        text-align: right;\n",
       "    }\n",
       "</style>\n",
       "<table border=\"1\" class=\"dataframe\">\n",
       "  <thead>\n",
       "    <tr style=\"text-align: right;\">\n",
       "      <th></th>\n",
       "      <th>journalist</th>\n",
       "      <th>trader</th>\n",
       "      <th>politician</th>\n",
       "      <th>total</th>\n",
       "    </tr>\n",
       "  </thead>\n",
       "  <tbody>\n",
       "    <tr>\n",
       "      <th>the</th>\n",
       "      <td>89</td>\n",
       "      <td>43</td>\n",
       "      <td>62</td>\n",
       "      <td>194</td>\n",
       "    </tr>\n",
       "    <tr>\n",
       "      <th>to</th>\n",
       "      <td>60</td>\n",
       "      <td>30</td>\n",
       "      <td>49</td>\n",
       "      <td>139</td>\n",
       "    </tr>\n",
       "    <tr>\n",
       "      <th>and</th>\n",
       "      <td>38</td>\n",
       "      <td>26</td>\n",
       "      <td>36</td>\n",
       "      <td>100</td>\n",
       "    </tr>\n",
       "    <tr>\n",
       "      <th>of</th>\n",
       "      <td>45</td>\n",
       "      <td>14</td>\n",
       "      <td>33</td>\n",
       "      <td>92</td>\n",
       "    </tr>\n",
       "    <tr>\n",
       "      <th>in</th>\n",
       "      <td>38</td>\n",
       "      <td>23</td>\n",
       "      <td>20</td>\n",
       "      <td>81</td>\n",
       "    </tr>\n",
       "    <tr>\n",
       "      <th>you</th>\n",
       "      <td>30</td>\n",
       "      <td>18</td>\n",
       "      <td>20</td>\n",
       "      <td>68</td>\n",
       "    </tr>\n",
       "    <tr>\n",
       "      <th>for</th>\n",
       "      <td>26</td>\n",
       "      <td>19</td>\n",
       "      <td>19</td>\n",
       "      <td>64</td>\n",
       "    </tr>\n",
       "    <tr>\n",
       "      <th>on</th>\n",
       "      <td>22</td>\n",
       "      <td>13</td>\n",
       "      <td>18</td>\n",
       "      <td>53</td>\n",
       "    </tr>\n",
       "    <tr>\n",
       "      <th>is</th>\n",
       "      <td>23</td>\n",
       "      <td>10</td>\n",
       "      <td>8</td>\n",
       "      <td>41</td>\n",
       "    </tr>\n",
       "    <tr>\n",
       "      <th>this</th>\n",
       "      <td>18</td>\n",
       "      <td>9</td>\n",
       "      <td>12</td>\n",
       "      <td>39</td>\n",
       "    </tr>\n",
       "  </tbody>\n",
       "</table>\n",
       "</div>"
      ],
      "text/plain": [
       "      journalist  trader  politician  total\n",
       "the           89      43          62    194\n",
       "to            60      30          49    139\n",
       "and           38      26          36    100\n",
       "of            45      14          33     92\n",
       "in            38      23          20     81\n",
       "you           30      18          20     68\n",
       "for           26      19          19     64\n",
       "on            22      13          18     53\n",
       "is            23      10           8     41\n",
       "this          18       9          12     39"
      ]
     },
     "execution_count": 44,
     "metadata": {},
     "output_type": "execute_result"
    }
   ],
   "source": [
    "term_freq_df.columns = ['journalist', 'trader', 'politician']\n",
    "term_freq_df['total'] = term_freq_df['journalist'] + term_freq_df['trader'] + term_freq_df['politician']\n",
    "term_freq_df.sort_values(by='total', ascending=False).iloc[:10] # Top frequent words by total"
   ]
  },
  {
   "cell_type": "markdown",
   "metadata": {},
   "source": [
    "You can see that the most frequent words are all stop words like `the`,`to`,`and`,`of`, ect. If these stop words dominate both of the classes, I won't be able to have a meaningful result. So, I decided to remove stop words."
   ]
  },
  {
   "cell_type": "code",
   "execution_count": 45,
   "metadata": {},
   "outputs": [
    {
     "data": {
      "text/plain": [
       "CountVectorizer(analyzer='word', binary=False, decode_error='strict',\n",
       "        dtype=<class 'numpy.int64'>, encoding='utf-8', input='content',\n",
       "        lowercase=True, max_df=1.0, max_features=10000, min_df=1,\n",
       "        ngram_range=(1, 1), preprocessor=None, stop_words='english',\n",
       "        strip_accents=None, token_pattern='(?u)\\\\b\\\\w\\\\w+\\\\b',\n",
       "        tokenizer=None, vocabulary=None)"
      ]
     },
     "execution_count": 45,
     "metadata": {},
     "output_type": "execute_result"
    }
   ],
   "source": [
    "cvec = CountVectorizer(stop_words='english',max_features=10000)\n",
    "cvec.fit(data.tweet)"
   ]
  },
  {
   "cell_type": "code",
   "execution_count": 46,
   "metadata": {},
   "outputs": [],
   "source": [
    "document_matrix = cvec.transform(data.tweet)"
   ]
  },
  {
   "cell_type": "code",
   "execution_count": 47,
   "metadata": {},
   "outputs": [
    {
     "name": "stdout",
     "output_type": "stream",
     "text": [
      "1 entries' term freuquency calculated\n",
      "12 entries' term freuquency calculated\n",
      "23 entries' term freuquency calculated\n",
      "35 entries' term freuquency calculated\n",
      "46 entries' term freuquency calculated\n",
      "58 entries' term freuquency calculated\n",
      "69 entries' term freuquency calculated\n",
      "81 entries' term freuquency calculated\n",
      "92 entries' term freuquency calculated\n",
      "103 entries' term freuquency calculated\n",
      "113 entries' term freuquency calculated\n",
      "Wall time: 40.6 ms\n"
     ]
    }
   ],
   "source": [
    "%%time\n",
    "politician_batches = np.linspace(0,113,100).astype(int)\n",
    "i=0\n",
    "politician_tf = []\n",
    "while i < len(politician_batches)-1:\n",
    "    batch_result = np.sum(document_matrix[politician_batches[i]:politician_batches[i+1]].toarray(),axis=0)\n",
    "    politician_tf.append(batch_result)\n",
    "    if (i % 10 == 0) | (i == len(politician_batches)-2):\n",
    "        print(politician_batches[i+1],\"entries' term freuquency calculated\")\n",
    "    i += 1"
   ]
  },
  {
   "cell_type": "code",
   "execution_count": 48,
   "metadata": {},
   "outputs": [
    {
     "name": "stdout",
     "output_type": "stream",
     "text": [
      "114 entries' term freuquency calculated\n",
      "129 entries' term freuquency calculated\n",
      "143 entries' term freuquency calculated\n",
      "158 entries' term freuquency calculated\n",
      "172 entries' term freuquency calculated\n",
      "187 entries' term freuquency calculated\n",
      "201 entries' term freuquency calculated\n",
      "216 entries' term freuquency calculated\n",
      "230 entries' term freuquency calculated\n",
      "245 entries' term freuquency calculated\n",
      "257 entries' term freuquency calculated\n",
      "Wall time: 15.6 ms\n"
     ]
    }
   ],
   "source": [
    "%%time\n",
    "trader_batches = np.linspace(113,257,100).astype(int)\n",
    "i=0\n",
    "trader_tf = []\n",
    "while i < len(trader_batches)-1:\n",
    "    batch_result = np.sum(document_matrix[trader_batches[i]:trader_batches[i+1]].toarray(),axis=0)\n",
    "    trader_tf.append(batch_result)\n",
    "    if (i % 10 == 0) | (i == len(trader_batches)-2):\n",
    "        print(trader_batches[i+1],\"entries' term freuquency calculated\")\n",
    "    i += 1"
   ]
  },
  {
   "cell_type": "code",
   "execution_count": 49,
   "metadata": {},
   "outputs": [
    {
     "name": "stdout",
     "output_type": "stream",
     "text": [
      "258 entries' term freuquency calculated\n",
      "281 entries' term freuquency calculated\n",
      "303 entries' term freuquency calculated\n",
      "326 entries' term freuquency calculated\n",
      "349 entries' term freuquency calculated\n",
      "371 entries' term freuquency calculated\n",
      "394 entries' term freuquency calculated\n",
      "417 entries' term freuquency calculated\n",
      "440 entries' term freuquency calculated\n",
      "462 entries' term freuquency calculated\n",
      "481 entries' term freuquency calculated\n",
      "Wall time: 15.6 ms\n"
     ]
    }
   ],
   "source": [
    "%%time\n",
    "journalist_batches = np.linspace(256,481,100).astype(int)\n",
    "i=0\n",
    "journalist_tf = []\n",
    "while i < len(journalist_batches)-1:\n",
    "    batch_result = np.sum(document_matrix[journalist_batches[i]:journalist_batches[i+1]].toarray(),axis=0)\n",
    "    journalist_tf.append(batch_result)\n",
    "    if (i % 10 == 0) | (i == len(journalist_batches)-2):\n",
    "        print(journalist_batches[i+1],\"entries' term freuquency calculated\")\n",
    "    i += 1"
   ]
  },
  {
   "cell_type": "code",
   "execution_count": 50,
   "metadata": {},
   "outputs": [
    {
     "data": {
      "text/html": [
       "<div>\n",
       "<style scoped>\n",
       "    .dataframe tbody tr th:only-of-type {\n",
       "        vertical-align: middle;\n",
       "    }\n",
       "\n",
       "    .dataframe tbody tr th {\n",
       "        vertical-align: top;\n",
       "    }\n",
       "\n",
       "    .dataframe thead th {\n",
       "        text-align: right;\n",
       "    }\n",
       "</style>\n",
       "<table border=\"1\" class=\"dataframe\">\n",
       "  <thead>\n",
       "    <tr style=\"text-align: right;\">\n",
       "      <th></th>\n",
       "      <th>journalist</th>\n",
       "      <th>trader</th>\n",
       "      <th>politician</th>\n",
       "      <th>total</th>\n",
       "    </tr>\n",
       "  </thead>\n",
       "  <tbody>\n",
       "    <tr>\n",
       "      <th>new</th>\n",
       "      <td>9</td>\n",
       "      <td>5</td>\n",
       "      <td>4</td>\n",
       "      <td>18</td>\n",
       "    </tr>\n",
       "    <tr>\n",
       "      <th>today</th>\n",
       "      <td>5</td>\n",
       "      <td>2</td>\n",
       "      <td>9</td>\n",
       "      <td>16</td>\n",
       "    </tr>\n",
       "    <tr>\n",
       "      <th>great</th>\n",
       "      <td>3</td>\n",
       "      <td>6</td>\n",
       "      <td>4</td>\n",
       "      <td>13</td>\n",
       "    </tr>\n",
       "    <tr>\n",
       "      <th>que</th>\n",
       "      <td>4</td>\n",
       "      <td>8</td>\n",
       "      <td>0</td>\n",
       "      <td>12</td>\n",
       "    </tr>\n",
       "    <tr>\n",
       "      <th>like</th>\n",
       "      <td>6</td>\n",
       "      <td>5</td>\n",
       "      <td>1</td>\n",
       "      <td>12</td>\n",
       "    </tr>\n",
       "    <tr>\n",
       "      <th>media</th>\n",
       "      <td>5</td>\n",
       "      <td>1</td>\n",
       "      <td>6</td>\n",
       "      <td>12</td>\n",
       "    </tr>\n",
       "    <tr>\n",
       "      <th>love</th>\n",
       "      <td>8</td>\n",
       "      <td>3</td>\n",
       "      <td>0</td>\n",
       "      <td>11</td>\n",
       "    </tr>\n",
       "    <tr>\n",
       "      <th>thanks</th>\n",
       "      <td>5</td>\n",
       "      <td>4</td>\n",
       "      <td>2</td>\n",
       "      <td>11</td>\n",
       "    </tr>\n",
       "    <tr>\n",
       "      <th>trading</th>\n",
       "      <td>1</td>\n",
       "      <td>10</td>\n",
       "      <td>0</td>\n",
       "      <td>11</td>\n",
       "    </tr>\n",
       "    <tr>\n",
       "      <th>people</th>\n",
       "      <td>4</td>\n",
       "      <td>1</td>\n",
       "      <td>5</td>\n",
       "      <td>10</td>\n",
       "    </tr>\n",
       "  </tbody>\n",
       "</table>\n",
       "</div>"
      ],
      "text/plain": [
       "         journalist  trader  politician  total\n",
       "new               9       5           4     18\n",
       "today             5       2           9     16\n",
       "great             3       6           4     13\n",
       "que               4       8           0     12\n",
       "like              6       5           1     12\n",
       "media             5       1           6     12\n",
       "love              8       3           0     11\n",
       "thanks            5       4           2     11\n",
       "trading           1      10           0     11\n",
       "people            4       1           5     10"
      ]
     },
     "execution_count": 50,
     "metadata": {},
     "output_type": "execute_result"
    }
   ],
   "source": [
    "journalist = np.sum(journalist_tf,axis=0)\n",
    "trader = np.sum(trader_tf,axis=0)\n",
    "politician = np.sum(politician_tf,axis=0)\n",
    "term_freq_df2 = pd.DataFrame([journalist,trader,politician],columns=cvec.get_feature_names()).transpose()\n",
    "\n",
    "term_freq_df2.columns = ['journalist', 'trader', 'politician']\n",
    "term_freq_df2['total'] = term_freq_df2['journalist'] + term_freq_df2['trader'] + term_freq_df2['politician']\n",
    "term_freq_df2.sort_values(by='total', ascending=False).iloc[:10]"
   ]
  },
  {
   "cell_type": "markdown",
   "metadata": {},
   "source": [
    "Let's see what are the top 50 words in trader tweets on a bar chart."
   ]
  },
  {
   "cell_type": "code",
   "execution_count": 51,
   "metadata": {},
   "outputs": [
    {
     "data": {
      "image/png": "[encoded data removed]",
      "text/plain": [
       "<matplotlib.figure.Figure at 0x20b57cddcc0>"
      ]
     },
     "metadata": {},
     "output_type": "display_data"
    }
   ],
   "source": [
    "y_pos = np.arange(50)\n",
    "plt.figure(figsize=(12,10))\n",
    "plt.bar(y_pos, term_freq_df2.sort_values(by='trader', ascending=False)['trader'][:50], align='center', alpha=0.5)\n",
    "plt.xticks(y_pos, term_freq_df2.sort_values(by='trader', ascending=False)['trader'][:50].index,rotation='vertical')\n",
    "plt.ylabel('Frequency')\n",
    "plt.xlabel('Top 50 trader tokens')\n",
    "plt.title('Top 50 tokens in trader tweets');"
   ]
  },
  {
   "cell_type": "markdown",
   "metadata": {},
   "source": [
    "Even though some of the top 50 tokens can provide some information about the trader tweets, some neutral words such as \"like\", \"just\", are one of the most frequent tokens. Even though these are the actual high-frequency words, but it is difficult to say that these words are all important words in trader tweets that characterises the trader class."
   ]
  },
  {
   "cell_type": "code",
   "execution_count": 52,
   "metadata": {},
   "outputs": [
    {
     "data": {
      "image/png": "[encoded data removed]",
      "text/plain": [
       "<matplotlib.figure.Figure at 0x20b57d537f0>"
      ]
     },
     "metadata": {},
     "output_type": "display_data"
    }
   ],
   "source": [
    "y_pos = np.arange(50)\n",
    "plt.figure(figsize=(12,10))\n",
    "plt.bar(y_pos, term_freq_df2.sort_values(by='journalist', ascending=False)['journalist'][:50], align='center', alpha=0.5)\n",
    "plt.xticks(y_pos, term_freq_df2.sort_values(by='journalist', ascending=False)['journalist'][:50].index,rotation='vertical')\n",
    "plt.ylabel('Frequency')\n",
    "plt.xlabel('Top 50 journalist tokens')\n",
    "plt.title('Top 50 tokens in journalist tweets');"
   ]
  },
  {
   "cell_type": "code",
   "execution_count": 53,
   "metadata": {},
   "outputs": [
    {
     "data": {
      "image/png": "[encoded data removed]",
      "text/plain": [
       "<matplotlib.figure.Figure at 0x20b57ddf9e8>"
      ]
     },
     "metadata": {},
     "output_type": "display_data"
    }
   ],
   "source": [
    "y_pos = np.arange(50)\n",
    "plt.figure(figsize=(12,10))\n",
    "plt.bar(y_pos, term_freq_df2.sort_values(by='politician', ascending=False)['politician'][:50], align='center', alpha=0.5)\n",
    "plt.xticks(y_pos, term_freq_df2.sort_values(by='politician', ascending=False)['politician'][:50].index,rotation='vertical')\n",
    "plt.ylabel('Frequency')\n",
    "plt.xlabel('Top 50 politician tokens')\n",
    "plt.title('Top 50 tokens in politician tweets');"
   ]
  },
  {
   "cell_type": "markdown",
   "metadata": {},
   "source": [
    "# 4. Model building (Classification)\n",
    "I chose to split the data into 2 parts: train, test. \n",
    "- Train set: the sample of data for learning.\n",
    "- Test set: the sample of data used only to testing a model.\n",
    "\n",
    "The ratio I decided to split is 70/30, 70% of data as the training set and 30% for test set."
   ]
  },
  {
   "cell_type": "code",
   "execution_count": 54,
   "metadata": {},
   "outputs": [],
   "source": [
    "from sklearn.cross_validation import train_test_split\n",
    "from sklearn.feature_extraction.text import CountVectorizer\n",
    "from sklearn.linear_model import LogisticRegression\n",
    "from sklearn.pipeline import Pipeline\n",
    "from sklearn.metrics import accuracy_score\n",
    "from sklearn.metrics import classification_report, confusion_matrix\n",
    "from time import time"
   ]
  },
  {
   "cell_type": "code",
   "execution_count": 55,
   "metadata": {},
   "outputs": [
    {
     "data": {
      "text/html": [
       "<div>\n",
       "<style scoped>\n",
       "    .dataframe tbody tr th:only-of-type {\n",
       "        vertical-align: middle;\n",
       "    }\n",
       "\n",
       "    .dataframe tbody tr th {\n",
       "        vertical-align: top;\n",
       "    }\n",
       "\n",
       "    .dataframe thead th {\n",
       "        text-align: right;\n",
       "    }\n",
       "</style>\n",
       "<table border=\"1\" class=\"dataframe\">\n",
       "  <thead>\n",
       "    <tr style=\"text-align: right;\">\n",
       "      <th></th>\n",
       "      <th>tweet</th>\n",
       "      <th>category</th>\n",
       "      <th>id</th>\n",
       "    </tr>\n",
       "  </thead>\n",
       "  <tbody>\n",
       "    <tr>\n",
       "      <th>0</th>\n",
       "      <td>sodc planning committee tonight at didcot civi...</td>\n",
       "      <td>Politician</td>\n",
       "      <td>4912945864</td>\n",
       "    </tr>\n",
       "    <tr>\n",
       "      <th>1</th>\n",
       "      <td>usembassytokyo imamade hontoni arigato gozaima...</td>\n",
       "      <td>Politician</td>\n",
       "      <td>1900694785</td>\n",
       "    </tr>\n",
       "    <tr>\n",
       "      <th>2</th>\n",
       "      <td>mrrawle well deserved congratulations</td>\n",
       "      <td>Politician</td>\n",
       "      <td>1887255132</td>\n",
       "    </tr>\n",
       "    <tr>\n",
       "      <th>3</th>\n",
       "      <td>people unfollowed me automatically checked by</td>\n",
       "      <td>Politician</td>\n",
       "      <td>1873380343</td>\n",
       "    </tr>\n",
       "    <tr>\n",
       "      <th>4</th>\n",
       "      <td>new estimates final tax plan would raise taxes...</td>\n",
       "      <td>Politician</td>\n",
       "      <td>1872999342</td>\n",
       "    </tr>\n",
       "  </tbody>\n",
       "</table>\n",
       "</div>"
      ],
      "text/plain": [
       "                                               tweet    category          id\n",
       "0  sodc planning committee tonight at didcot civi...  Politician  4912945864\n",
       "1  usembassytokyo imamade hontoni arigato gozaima...  Politician  1900694785\n",
       "2              mrrawle well deserved congratulations  Politician  1887255132\n",
       "3      people unfollowed me automatically checked by  Politician  1873380343\n",
       "4  new estimates final tax plan would raise taxes...  Politician  1872999342"
      ]
     },
     "execution_count": 55,
     "metadata": {},
     "output_type": "execute_result"
    }
   ],
   "source": [
    "data.head()"
   ]
  },
  {
   "cell_type": "code",
   "execution_count": 56,
   "metadata": {},
   "outputs": [
    {
     "data": {
      "text/plain": [
       "Journalist    224\n",
       "Trader        144\n",
       "Politician    113\n",
       "Name: category, dtype: int64"
      ]
     },
     "execution_count": 56,
     "metadata": {},
     "output_type": "execute_result"
    }
   ],
   "source": [
    "data.category.value_counts()"
   ]
  },
  {
   "cell_type": "code",
   "execution_count": 57,
   "metadata": {},
   "outputs": [],
   "source": [
    "x = data.tweet\n",
    "y = data.category"
   ]
  },
  {
   "cell_type": "code",
   "execution_count": 58,
   "metadata": {},
   "outputs": [],
   "source": [
    "x_train, x_test, y_train, y_test = train_test_split(x, y, test_size=.3, random_state=102)"
   ]
  },
  {
   "cell_type": "code",
   "execution_count": 59,
   "metadata": {},
   "outputs": [
    {
     "name": "stdout",
     "output_type": "stream",
     "text": [
      "Train set has total 336 entries with 47.92% Journalist, 28.27% Trader, 23.81% Politician.\n",
      "\n",
      "\n",
      "Test set has total 145 entries with 43.45% Journalist, 33.79% Trader, 22.76% Politician.\n"
     ]
    }
   ],
   "source": [
    "print(\"Train set has total {0} entries with {1:.2f}% Journalist, {2:.2f}% Trader, {3:.2f}% Politician.\" .format(len(x_train),\n",
    "                                                                            len(x_train[y_train == 'Journalist']) / (len(x_train)*1.)*100,\n",
    "                                                                            len(x_train[y_train == 'Trader']) / (len(x_train)*1.)*100,\n",
    "                                                                            len(x_train[y_train == 'Politician']) / (len(x_train)*1.)*100))\n",
    "print(\"\\n\")\n",
    "print(\"Test set has total {0} entries with {1:.2f}% Journalist, {2:.2f}% Trader, {3:.2f}% Politician.\" .format(len(x_test),\n",
    "                                                                            len(x_test[y_test == 'Journalist']) / (len(x_test)*1.)*100,\n",
    "                                                                            len(x_test[y_test == 'Trader']) / (len(x_test)*1.)*100,\n",
    "                                                                            len(x_test[y_test == 'Politician']) / (len(x_test)*1.)*100))"
   ]
  },
  {
   "cell_type": "markdown",
   "metadata": {},
   "source": [
    "- If we want to use text in machine learning algorithms, we’ll have to convert them to a numerical representation. One of the methods is called __bag-of-words__ approach. The bag of words model ignores grammar and order of words. Once we have a corpus (text data) then first, a list of vocabulary is created based on the entire corpus. Then each document or data entry is represented as numerical vectors based on the vocabulary built from the corpora.\n",
    "- With `count vectorizer`, we merely count the appearance of the words in each text.\n",
    "- A model I chose to evaluate different count vectors is the logistic regression. Because of lacking time I have just try some other by default settings (not much meaningful)."
   ]
  },
  {
   "cell_type": "markdown",
   "metadata": {},
   "source": [
    "Define two functions to iteratively train on the different number of features, then check the accuracy of the logistic regression on the test set."
   ]
  },
  {
   "cell_type": "code",
   "execution_count": 60,
   "metadata": {},
   "outputs": [],
   "source": [
    "def accuracy_summary(pipeline, x_train, y_train, x_test, y_test):\n",
    "\n",
    "    t0 = time()\n",
    "    model_fit = pipeline.fit(x_train, y_train)\n",
    "    y_pred = model_fit.predict(x_test)\n",
    "    train_test_time = time() - t0\n",
    "    accuracy = accuracy_score(y_test, y_pred)\n",
    " \n",
    "    print(\"accuracy score: {0:.2f}%\".format(accuracy*100))\n",
    "    print(\"train and test time: {0:.2f}s\".format(train_test_time))\n",
    "    print(\"-\"*80)\n",
    "    return accuracy, train_test_time"
   ]
  },
  {
   "cell_type": "markdown",
   "metadata": {},
   "source": [
    "I checked the accuracy on validation set for the different number of features by calling the `nfeature_accuracy_checker`"
   ]
  },
  {
   "cell_type": "code",
   "execution_count": 61,
   "metadata": {},
   "outputs": [],
   "source": [
    "cvec = CountVectorizer()\n",
    "lr = LogisticRegression(random_state=0, solver='lbfgs', multi_class='multinomial')\n",
    "n_features = np.arange(500,3001,500)\n",
    "    \n",
    "def nfeature_accuracy_checker(vectorizer=cvec, n_features=n_features, stop_words=None, ngram_range=(1, 1), classifier=lr):\n",
    "    result = []\n",
    "    print(classifier)\n",
    "    print(\"\\n\")\n",
    "    for n in n_features:\n",
    "        vectorizer.set_params(stop_words=stop_words, max_features=n, ngram_range=ngram_range)\n",
    "        checker_pipeline = Pipeline([\n",
    "            ('vectorizer', vectorizer),\n",
    "            ('classifier', classifier)\n",
    "        ])\n",
    "        print(\"Testing result for {} features\".format(n))\n",
    "        nfeature_accuracy,tt_time = accuracy_summary(checker_pipeline, x_train, y_train, x_test, y_test)\n",
    "        result.append((n,nfeature_accuracy,tt_time))\n",
    "    return result"
   ]
  },
  {
   "cell_type": "markdown",
   "metadata": {},
   "source": [
    "Run `nfeature_accuracy_checker` on two different conditions. First with stop words removal, second without stop words removal."
   ]
  },
  {
   "cell_type": "code",
   "execution_count": 62,
   "metadata": {},
   "outputs": [
    {
     "name": "stdout",
     "output_type": "stream",
     "text": [
      "RESULT WITHOUT STOP WORDS\n",
      "\n",
      "LogisticRegression(C=1.0, class_weight=None, dual=False, fit_intercept=True,\n",
      "          intercept_scaling=1, max_iter=100, multi_class='multinomial',\n",
      "          n_jobs=1, penalty='l2', random_state=0, solver='lbfgs',\n",
      "          tol=0.0001, verbose=0, warm_start=False)\n",
      "\n",
      "\n",
      "Testing result for 500 features\n",
      "accuracy score: 44.83%\n",
      "train and test time: 0.04s\n",
      "--------------------------------------------------------------------------------\n",
      "Testing result for 1000 features\n",
      "accuracy score: 50.34%\n",
      "train and test time: 0.04s\n",
      "--------------------------------------------------------------------------------\n",
      "Testing result for 1500 features\n",
      "accuracy score: 50.34%\n",
      "train and test time: 0.06s\n",
      "--------------------------------------------------------------------------------\n",
      "Testing result for 2000 features\n",
      "accuracy score: 49.66%\n",
      "train and test time: 0.05s\n",
      "--------------------------------------------------------------------------------\n",
      "Testing result for 2500 features\n",
      "accuracy score: 49.66%\n",
      "train and test time: 0.08s\n",
      "--------------------------------------------------------------------------------\n",
      "Testing result for 3000 features\n",
      "accuracy score: 49.66%\n",
      "train and test time: 0.06s\n",
      "--------------------------------------------------------------------------------\n",
      "Wall time: 344 ms\n"
     ]
    }
   ],
   "source": [
    "%%time\n",
    "print(\"RESULT WITHOUT STOP WORDS\\n\")\n",
    "feature_result_wosw = nfeature_accuracy_checker(stop_words='english')"
   ]
  },
  {
   "cell_type": "code",
   "execution_count": 63,
   "metadata": {},
   "outputs": [
    {
     "name": "stdout",
     "output_type": "stream",
     "text": [
      "RESULT WITH STOP WORDS\n",
      "\n",
      "LogisticRegression(C=1.0, class_weight=None, dual=False, fit_intercept=True,\n",
      "          intercept_scaling=1, max_iter=100, multi_class='multinomial',\n",
      "          n_jobs=1, penalty='l2', random_state=0, solver='lbfgs',\n",
      "          tol=0.0001, verbose=0, warm_start=False)\n",
      "\n",
      "\n",
      "Testing result for 500 features\n",
      "accuracy score: 48.97%\n",
      "train and test time: 0.06s\n",
      "--------------------------------------------------------------------------------\n",
      "Testing result for 1000 features\n",
      "accuracy score: 46.90%\n",
      "train and test time: 0.07s\n",
      "--------------------------------------------------------------------------------\n",
      "Testing result for 1500 features\n",
      "accuracy score: 46.90%\n",
      "train and test time: 0.08s\n",
      "--------------------------------------------------------------------------------\n",
      "Testing result for 2000 features\n",
      "accuracy score: 48.97%\n",
      "train and test time: 0.05s\n",
      "--------------------------------------------------------------------------------\n",
      "Testing result for 2500 features\n",
      "accuracy score: 48.28%\n",
      "train and test time: 0.06s\n",
      "--------------------------------------------------------------------------------\n",
      "Testing result for 3000 features\n",
      "accuracy score: 48.28%\n",
      "train and test time: 0.06s\n",
      "--------------------------------------------------------------------------------\n",
      "Wall time: 392 ms\n"
     ]
    }
   ],
   "source": [
    "%%time\n",
    "print(\"RESULT WITH STOP WORDS\\n\")\n",
    "feature_result_ug = nfeature_accuracy_checker()"
   ]
  },
  {
   "cell_type": "code",
   "execution_count": 64,
   "metadata": {},
   "outputs": [
    {
     "data": {
      "image/png": "[encoded data removed]",
      "text/plain": [
       "<matplotlib.figure.Figure at 0x20b583e6e10>"
      ]
     },
     "metadata": {},
     "output_type": "display_data"
    }
   ],
   "source": [
    "nfeatures_plot_ug = pd.DataFrame(feature_result_ug,columns=['nfeatures','test_accuracy','train_test_time'])\n",
    "nfeatures_plot_ug_wosw = pd.DataFrame(feature_result_wosw,columns=['nfeatures','test_accuracy','train_test_time'])\n",
    "\n",
    "plt.figure(figsize=(8,6))\n",
    "plt.plot(nfeatures_plot_ug.nfeatures, nfeatures_plot_ug.test_accuracy, label='with stop words')\n",
    "plt.plot(nfeatures_plot_ug_wosw.nfeatures, nfeatures_plot_ug_wosw.test_accuracy,label='without stop words')\n",
    "plt.title(\"Without stop words VS With stop words: Accuracy\")\n",
    "plt.xlabel(\"Number of features\")\n",
    "plt.ylabel(\"Test set accuracy\")\n",
    "plt.legend();"
   ]
  },
  {
   "cell_type": "markdown",
   "metadata": {},
   "source": [
    "By looking at the test result, removing stop words had improved the model performance. "
   ]
  },
  {
   "cell_type": "markdown",
   "metadata": {},
   "source": [
    "- In this assignment, I have looked at how the logistic regression is performing based on the features extracted with count vectorizer.\n",
    "- There are many algorithms we can try such KNN, random forest, etc. I not going to implement those algorithms.\n",
    "- There are also many methods for featuring like `Tfidf` vectorizer. I will try to do an experiment if I have a chance."
   ]
  },
  {
   "cell_type": "code",
   "execution_count": null,
   "metadata": {},
   "outputs": [],
   "source": []
  }
 ],
 "metadata": {
  "kernelspec": {
   "display_name": "Python 3",
   "language": "python",
   "name": "python3"
  },
  "language_info": {
   "codemirror_mode": {
    "name": "ipython",
    "version": 3
   },
   "file_extension": ".py",
   "mimetype": "text/x-python",
   "name": "python",
   "nbconvert_exporter": "python",
   "pygments_lexer": "ipython3",
   "version": "3.6.3"
  }
 },
 "nbformat": 4,
 "nbformat_minor": 2
}
